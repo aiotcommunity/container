{
 "cells": [
  {
   "cell_type": "markdown",
   "id": "da3cc892-5346-4e82-ab52-e6b118ebea51",
   "metadata": {},
   "source": [
    "1. 需求分析\n",
    "在集装箱食用菌栽培过程中，1）建立食用菌长势（图像输出）和产量（数值输出）的预测模型；2）设计菇房自动化控制系统（建模及实现），在维持食用菌最佳生长环境的同时达到能耗最优。"
   ]
  },
  {
   "cell_type": "markdown",
   "id": "d7d95355-e5a0-4004-a751-fbc3736a3193",
   "metadata": {},
   "source": [
    "2. 概要设计\n",
    "20250109方案.docx（张老师）"
   ]
  },
  {
   "cell_type": "markdown",
   "id": "7ace3ea3-61a9-4dc5-ad6b-54d13d298a0a",
   "metadata": {},
   "source": [
    "3. 详细设计\n"
   ]
  }
 ],
 "metadata": {
  "kernelspec": {
   "display_name": "Python 3 (ipykernel)",
   "language": "python",
   "name": "python3"
  },
  "language_info": {
   "codemirror_mode": {
    "name": "ipython",
    "version": 3
   },
   "file_extension": ".py",
   "mimetype": "text/x-python",
   "name": "python",
   "nbconvert_exporter": "python",
   "pygments_lexer": "ipython3",
   "version": "3.7.1"
  }
 },
 "nbformat": 4,
 "nbformat_minor": 5
}
